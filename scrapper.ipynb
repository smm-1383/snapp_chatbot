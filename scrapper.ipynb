{
 "cells": [
  {
   "cell_type": "code",
   "execution_count": 1,
   "id": "a0eccd8e",
   "metadata": {},
   "outputs": [],
   "source": [
    "import numpy as np\n",
    "import pandas as pd"
   ]
  },
  {
   "cell_type": "code",
   "execution_count": 2,
   "id": "8f4e3880",
   "metadata": {},
   "outputs": [],
   "source": [
    "from selenium import webdriver\n",
    "from bs4 import BeautifulSoup\n",
    "import time\n",
    "import re\n",
    "Ed = webdriver.Edge\n",
    "s = time.sleep"
   ]
  },
  {
   "cell_type": "markdown",
   "id": "26aae552",
   "metadata": {},
   "source": [
    "`https://club.snapp.ir/snapp-drivers-training/`\n",
    "\n",
    "`https://club.snapp.ir/training-center/`"
   ]
  },
  {
   "cell_type": "code",
   "execution_count": 3,
   "id": "870cb601",
   "metadata": {},
   "outputs": [],
   "source": [
    "ed = Ed()"
   ]
  },
  {
   "cell_type": "code",
   "execution_count": 4,
   "id": "20354f71",
   "metadata": {},
   "outputs": [],
   "source": [
    "ed.get('https://club.snapp.ir/training-center/')"
   ]
  },
  {
   "cell_type": "code",
   "execution_count": 5,
   "id": "a0b393cb",
   "metadata": {},
   "outputs": [],
   "source": [
    "soup = BeautifulSoup(ed.page_source)"
   ]
  },
  {
   "cell_type": "code",
   "execution_count": 6,
   "id": "03d53283",
   "metadata": {},
   "outputs": [],
   "source": [
    "scrape_pages = []\n",
    "for a in soup.select('div.mt-8 div.grid a'):\n",
    "    link = a['href']\n",
    "    scrape_pages.append(link)"
   ]
  },
  {
   "cell_type": "code",
   "execution_count": 7,
   "id": "8f1fcd82",
   "metadata": {},
   "outputs": [
    {
     "name": "stdout",
     "output_type": "stream",
     "text": [
      "ثبت‌نام و عضویت\n",
      "امنیت و قوانین اسنپ\n",
      "راهنمای اپلیکیشن رانندگان\n",
      "درآمد و پاداش\n",
      "راهنمای لیگ رانندگان\n",
      "راهنمای رفع مسدودی\n",
      "پشتیبانی و راه‌ ارتباطی با ما\n"
     ]
    }
   ],
   "source": [
    "links = {}\n",
    "for i in scrape_pages:\n",
    "    ed.get(i)\n",
    "    soup = BeautifulSoup(ed.page_source)\n",
    "    title = soup.select_one('div h2').text\n",
    "    links[title] = {}\n",
    "    sub_links = soup.select('div.cat_content a')\n",
    "    for link in sub_links:\n",
    "        links[title][link.span.text] = link['href']\n",
    "    print(title)"
   ]
  },
  {
   "cell_type": "code",
   "execution_count": 8,
   "id": "65cc487e",
   "metadata": {},
   "outputs": [
    {
     "name": "stdout",
     "output_type": "stream",
     "text": [
      "ثبت‌نام و عضویت\n",
      "\t مزایای کار در اسنپ \t\n",
      "\t\t https://club.snapp.ir/snapp-drivers-training/benefits-for-part-time-drivers/ \t\t\n",
      "\t راهنمای نصب اپلیکیشن \t\n",
      "\t\t https://club.snapp.ir/drivers-training/app-update-tutorial/ \t\t\n",
      "\t مدارک موردنیاز برای ثبت‌نام \t\n",
      "\t\t https://digitalsignup.snapp.ir/#docs \t\t\n",
      "\t راهنمای فرایند تأیید صلاحیت رانندگان اسنپ توسط فراجا \t\n",
      "\t\t https://club.snapp.ir/snapp-drivers-training/verification-qualifications-snapp-drivers/ \t\t\n",
      "\t راهنمای مراحل ثبت‌نام راننده اسنپ \t\n",
      "\t\t https://club.snapp.ir/snapp-drivers-training/snapp-driver-registration/ \t\t\n",
      "امنیت و قوانین اسنپ\n",
      "\t حفاظت از اطلاعات محرمانه \t\n",
      "\t\t https://club.snapp.ir/snapp-drivers-training/protection-of-banking-information-passwords/ \t\t\n",
      "\t امنیت سفر \t\n",
      "\t\t https://club.snapp.ir/snapp-drivers-training/driver-safety-center/ \t\t\n",
      "\t مطابقت مشخصات با اطلاعات ثبت‌شده در اپلیکیشن \t\n",
      "\t\t https://club.snapp.ir/drivers-training/consequence-of-mismatch/ \t\t\n",
      "\t قوانین سفر \t\n",
      "\t\t https://club.snapp.ir/snapp-red-lines/ \t\t\n",
      "راهنمای اپلیکیشن رانندگان\n",
      "\t دانلود و به‌روزرسانی اپلیکیشن \t\n",
      "\t\t https://snapp.ir/driver-app/ \t\t\n",
      "\t راهنمای نصب اپلیکیشن \t\n",
      "\t\t https://club.snapp.ir/drivers-training/app-update-tutorial/ \t\t\n",
      "\t راهنمای قبول و انجام سفر \t\n",
      "\t\t https://club.snapp.ir/drivers-training/how-to-accept-a-ride-in-snapp-driver-application/ \t\t\n",
      "\t راهنمای دریافت کرایه از مسافر \t\n",
      "\t\t https://club.snapp.ir/snapp-drivers-training/non-payment-of-travel-fee-by-passenger/ \t\t\n",
      "\t راهنمای وارد کردن شماره شبا \t\n",
      "\t\t https://club.snapp.ir/snapp-drivers-training/sheba-and-card-number/ \t\t\n",
      "\t راهنمای تسویه حساب درآمد \t\n",
      "\t\t https://club.snapp.ir/drivers-training/daily-income-liquidation-for-snapp-drivers/ \t\t\n",
      "\t بازنگری قیمت \t\n",
      "\t\t https://club.snapp.ir/snapp-drivers-training/change-in-ride/ \t\t\n",
      "\t دریافت حق کنسلی \t\n",
      "\t\t https://club.snapp.ir/drivers-training/cancellation-fee-guide/ \t\t\n",
      "\t طرح‌های تشویقی \t\n",
      "\t\t https://club.snapp.ir/snapp-drivers-training/types-incentive-important-points/ \t\t\n",
      "\t افزایش موجودی حساب \t\n",
      "\t\t https://club.snapp.ir/drivers-training/increase-account-balance/ \t\t\n",
      "\t پیگیری درخواست‌های ثبت‌شده مالی در اپلیکیشن \t\n",
      "\t\t https://club.snapp.ir/snapp-drivers-training/tracking-financial-tickets/ \t\t\n",
      "\t نکات مهم تسویه در لحظه \t\n",
      "\t\t https://club.snapp.ir/snapp-drivers-training/important-points-instant-cashout/ \t\t\n",
      "\t راهنمای تغییر شماره اسنپی \t\n",
      "\t\t https://club.snapp.ir/snapp-drivers-training/snapp-mobile-number-change/ \t\t\n",
      "\t راهنمای تغییر تصویر پروفایل \t\n",
      "\t\t https://club.snapp.ir/snapp-drivers-training/change-profile-picture-driver-snapp/ \t\t\n",
      "\t راهنمای تکمیل مدارک \t\n",
      "\t\t https://club.snapp.ir/snapp-drivers-training/complete-guide-to-completing-documen-for-snapp-driversts/ \t\t\n",
      "\t راهنمای تغییر مشخصات خودرو \t\n",
      "\t\t https://club.snapp.ir/snapp-drivers-training/edit-vehicle-info/ \t\t\n",
      "\t ویرایش مشخصات فردی \t\n",
      "\t\t https://club.snapp.ir/drivers-training/guide-to-changing-specifications-driver/ \t\t\n",
      "\t اسنپ‌بیمه \t\n",
      "\t\t https://club.snapp.ir/snapp-drivers-training/casualty-car-insurance/ \t\t\n",
      "\t اسنپ کارفیکس \t\n",
      "\t\t https://club.snapp.ir/on-the-road-services/snapp-carfix/ \t\t\n",
      "\t اسنپ کارپی \t\n",
      "\t\t https://club.snapp.ir/snapp-drivers-training/snapp-carpay-2/ \t\t\n",
      "\t لیگ رانندگان اسنپ \t\n",
      "\t\t https://club.snapp.ir/loyalty/ \t\t\n",
      "\t مقصد منتخب \t\n",
      "\t\t https://club.snapp.ir/snapp-drivers-training/completeguideselected-destination/ \t\t\n",
      "\t تنظیمات سفر (طرح ترافیک و آلودگی هوا) \t\n",
      "\t\t https://club.snapp.ir/snapp-drivers-training/request-setting-in-application/ \t\t\n",
      "\t دریافت درخواست‌های سفر چندگانه \t\n",
      "\t\t https://club.snapp.ir/drivers-training/multiple-offer-cab/ \t\t\n",
      "\t سفر بین‌استانی \t\n",
      "\t\t https://club.snapp.ir/drivers-training/intercity-travels/ \t\t\n",
      "\t سفر زمان‌بندی‌شده \t\n",
      "\t\t https://club.snapp.ir/snapp-drivers-training/schedule-ride-feature/ \t\t\n",
      "\t محدودیت ارسال درخواست سفر \t\n",
      "\t\t https://club.snapp.ir/snapp-drivers-training/acceptance-penalty-tips/ \t\t\n",
      "\t درخواست سفر در سفر \t\n",
      "\t\t https://club.snapp.ir/snapp-drivers-training/new-req-while-riding/ \t\t\n",
      "\t شرایط سفر \t\n",
      "\t\t https://club.snapp.ir/snapp-drivers-training/change-in-ride/ \t\t\n",
      "\t راهنمای استفاده از مسیریاب \t\n",
      "\t\t https://club.snapp.ir/drivers-training/navigation-app-walkthrough/ \t\t\n",
      "\t سفر اکوپلاس \t\n",
      "\t\t https://club.snapp.ir/snapp-drivers-training/guide-echo-plus/ \t\t\n",
      "\t سفر در سفر \t\n",
      "\t\t https://club.snapp.ir/snapp-drivers-training/in-ride-allotment/ \t\t\n",
      "\t گفت‌وگوی متنی با مسافر \t\n",
      "\t\t https://club.snapp.ir/snapp-drivers-training/chat-in-app/ \t\t\n",
      "\t نمایش موقعیت مکانی زنده مسافر \t\n",
      "\t\t https://club.snapp.ir/snapp-drivers-training/live-location-passenger/ \t\t\n",
      "\t نمایش اطلاعات معلولیت مسافر به راننده \t\n",
      "\t\t https://club.snapp.ir/snapp-drivers-training/informing-drivers-about-the-passenger-disability/ \t\t\n",
      "\t راهنمای اشیای جامانده در خودرو \t\n",
      "\t\t https://club.snapp.ir/snapp-drivers-training/passenger-left-something-in-my-vehicle/ \t\t\n",
      "\t تماس امن بین راننده و مسافر \t\n",
      "\t\t https://club.snapp.ir/news/number-masking-activated-for-all-users/ \t\t\n",
      "\t راهنمای امتیازدادن به مسافر \t\n",
      "\t\t https://club.snapp.ir/snapp-drivers-training/driver-rating-to-passenger/ \t\t\n",
      "\t لغو مجاز سفر بدون تماس با پشتیبانی \t\n",
      "\t\t https://club.snapp.ir/drivers-training/a-to-z-rejecting-trips/ \t\t\n",
      "\t لغو هوشمند سفر \t\n",
      "\t\t https://club.snapp.ir/snapp-drivers-training/automatic-trip-cancellation/ \t\t\n",
      "\t شرایط دریافت حق کنسلی به‌صورت خودکار \t\n",
      "\t\t https://club.snapp.ir/drivers-training/cancellation-fee-guide/ \t\t\n",
      "\t راهنمای تغییر شرایط سفر و بازنگری قیمت \t\n",
      "\t\t https://club.snapp.ir/snapp-drivers-training/changes-in-ride-status/ \t\t\n",
      "\t گزارش عملکرد لحظه‌ای کاربر راننده \t\n",
      "\t\t https://club.snapp.ir/drivers-training/live-performance-report/ \t\t\n",
      "\t امتیاز راننده \t\n",
      "\t\t https://club.snapp.ir/snapp-drivers-training/driver-rating-details-service/ \t\t\n",
      "\t مدال افتخار \t\n",
      "\t\t https://club.snapp.ir/snapp-drivers-training/driver-badge/ \t\t\n",
      "\t لیست تراکنش‌های مالی \t\n",
      "\t\t https://club.snapp.ir/snappbox/transaction-list/ \t\t\n",
      "\t مشاهده وضعیت سهمیه سوخت \t\n",
      "\t\t https://club.snapp.ir/learn/fuel-subsidy-feature/ \t\t\n",
      "\t امنیت راننده \t\n",
      "\t\t https://club.snapp.ir/snapp-drivers-training/driver-safety-center/ \t\t\n",
      "\t پشتیبانی داخل اپلیکیشن \t\n",
      "\t\t https://club.snapp.ir/drivers-training/support-in-app/ \t\t\n",
      "درآمد و پاداش\n",
      "\t نکات مهم تسویه در لحظه \t\n",
      "\t\t https://club.snapp.ir/snapp-drivers-training/important-points-instant-cashout/ \t\t\n",
      "\t پیگیری درخواست‌های ثبت‌شده مالی در اپلیکیشن \t\n",
      "\t\t https://club.snapp.ir/snapp-drivers-training/tracking-financial-tickets/ \t\t\n",
      "\t طرح‌های تشویقی \t\n",
      "\t\t https://club.snapp.ir/snapp-drivers-training/types-incentive-important-points/ \t\t\n",
      "\t کمیسیون سفر \t\n",
      "\t\t https://club.snapp.ir/snapp-drivers-training/snapp-commission/ \t\t\n",
      "\t افزایش موجودی حساب \t\n",
      "\t\t https://club.snapp.ir/drivers-training/increase-account-balance/ \t\t\n",
      "راهنمای لیگ رانندگان\n",
      "\t لیگ رانندگان اسنپ \t\n",
      "\t\t https://club.snapp.ir/loyalty/ \t\t\n",
      "راهنمای رفع مسدودی\n",
      "\t دلایل مسدودی و راهکارهای رفع آن \t\n",
      "\t\t https://club.snapp.ir/snapp-drivers-training/reasons-and-solutions-for-driver-banning/ \t\t\n",
      "پشتیبانی و راه‌ ارتباطی با ما\n",
      "\t معرفی سرویس‌های پشتیبانی \t\n",
      "\t\t https://club.snapp.ir/snapp-drivers-training/different-support-methods/ \t\t\n",
      "\t نشانی دفاتر امور کاربران راننده اسنپ \t\n",
      "\t\t https://club.snapp.ir/offices/ \t\t\n",
      "\t پشتیبانی داخل اپلیکیشن \t\n",
      "\t\t https://club.snapp.ir/drivers-training/support-in-app/ \t\t\n"
     ]
    }
   ],
   "source": [
    "for i in links:\n",
    "    print(i)\n",
    "    for j, k in links[i].items():\n",
    "        print('\\t', j, '\\t')\n",
    "        print('\\t\\t', k, '\\t\\t')"
   ]
  },
  {
   "cell_type": "code",
   "execution_count": 11,
   "id": "1804ccb0",
   "metadata": {},
   "outputs": [
    {
     "name": "stdout",
     "output_type": "stream",
     "text": [
      "'NoneType' object has no attribute 'text' https://digitalsignup.snapp.ir/#docs\n",
      "ثبت نام و عضویت مدارک موردنیاز برای ثبت نام\n",
      "'NoneType' object has no attribute 'text' https://snapp.ir/driver-app/\n",
      "راهنمای اپلیکیشن رانندگان دانلود و به روزرسانی اپلیکیشن\n",
      "'NoneType' object has no attribute 'text' https://club.snapp.ir/drivers-training/increase-account-balance/\n",
      "راهنمای اپلیکیشن رانندگان افزایش موجودی حساب\n",
      "'NoneType' object has no attribute 'text' https://club.snapp.ir/loyalty/\n",
      "راهنمای اپلیکیشن رانندگان لیگ رانندگان اسنپ\n",
      "'NoneType' object has no attribute 'text' https://club.snapp.ir/snapp-drivers-training/informing-drivers-about-the-passenger-disability/\n",
      "راهنمای اپلیکیشن رانندگان نمایش اطلاعات معلولیت مسافر به راننده\n",
      "'NoneType' object has no attribute 'text' https://club.snapp.ir/snapp-drivers-training/driver-rating-to-passenger/\n",
      "راهنمای اپلیکیشن رانندگان راهنمای امتیازدادن به مسافر\n",
      "'NoneType' object has no attribute 'text' https://club.snapp.ir/drivers-training/live-performance-report/\n",
      "راهنمای اپلیکیشن رانندگان گزارش عملکرد لحظه ای کاربر راننده\n",
      "'NoneType' object has no attribute 'text' https://club.snapp.ir/snapp-drivers-training/driver-badge/\n",
      "راهنمای اپلیکیشن رانندگان مدال افتخار\n",
      "'NoneType' object has no attribute 'text' https://club.snapp.ir/loyalty/\n",
      "راهنمای لیگ رانندگان لیگ رانندگان اسنپ\n"
     ]
    }
   ],
   "source": [
    "docs = {}\n",
    "for title, j in links.items():\n",
    "    title = title.replace('‌', ' ')\n",
    "    docs[title] = {}\n",
    "    for sub_title, link in j.items():\n",
    "        sub_title = sub_title.replace('‌', ' ')\n",
    "        ed.get(link)\n",
    "        soup = BeautifulSoup(ed.page_source)\n",
    "        try:\n",
    "            text = soup.select_one('div.entry-content').text.strip()\n",
    "            text = text.replace('\\u200c', ' ')\n",
    "            text = '\\n'.join(i for i in text.split('\\n') if i)\n",
    "        except Exception as e:\n",
    "            print(e, link)\n",
    "            print(title, sub_title)\n",
    "        docs[title][sub_title] = text\n"
   ]
  },
  {
   "cell_type": "markdown",
   "id": "62ce2766",
   "metadata": {},
   "source": [
    "3:32:20 <br>\n",
    "3:40:30"
   ]
  },
  {
   "cell_type": "code",
   "execution_count": 14,
   "id": "4d20b989",
   "metadata": {},
   "outputs": [],
   "source": [
    "soup = BeautifulSoup(ed.page_source)"
   ]
  },
  {
   "cell_type": "code",
   "execution_count": 23,
   "id": "a590e6f6",
   "metadata": {},
   "outputs": [],
   "source": [
    "texts = soup.select('div.shadow_unset div.d_none') + soup.select('div.shadow_unset div.d_block')"
   ]
  },
  {
   "cell_type": "code",
   "execution_count": 44,
   "id": "f9051bb7",
   "metadata": {},
   "outputs": [],
   "source": [
    "madrak = '\\n\\n'.join([(i.h3.text.replace('‌', ' ') + ': '+  ' و '.join(j.text.replace('‌', ' ') for j in i.select('p'))) for i in texts])"
   ]
  },
  {
   "cell_type": "code",
   "execution_count": 47,
   "id": "57f4adb4",
   "metadata": {},
   "outputs": [],
   "source": [
    "docs['ثبت نام و عضویت']['مدارک موردنیاز برای ثبت نام'] = madrak"
   ]
  },
  {
   "cell_type": "code",
   "execution_count": 48,
   "id": "8b9eb262",
   "metadata": {},
   "outputs": [],
   "source": [
    "docs['راهنمای اپلیکیشن رانندگان']['دانلود و به روزرسانی اپلیکیشن'] = 'ّبرای راهنمایی در نصب دانلود آپدیت به روزرسانی اپلیکیشن برنامه ی اسنپ رانندگان به فیلم آموزشی این لینک مراجعه کنید: https://snapp.ir/driver-app/'"
   ]
  },
  {
   "cell_type": "code",
   "execution_count": 49,
   "id": "fc51d6c3",
   "metadata": {},
   "outputs": [],
   "source": [
    "ed.get('https://club.snapp.ir/drivers-training/increase-account-balance/')"
   ]
  },
  {
   "cell_type": "code",
   "execution_count": 50,
   "id": "0988ced2",
   "metadata": {},
   "outputs": [],
   "source": [
    "soup = BeautifulSoup(ed.page_source)"
   ]
  },
  {
   "cell_type": "code",
   "execution_count": 60,
   "id": "23b5e1c1",
   "metadata": {},
   "outputs": [],
   "source": [
    "docs['راهنمای اپلیکیشن رانندگان']['افزایش موجودی حساب'] = soup.select_one('div.entry-content').text.replace('‌', ' ').strip()"
   ]
  },
  {
   "cell_type": "code",
   "execution_count": 61,
   "id": "397e9b17",
   "metadata": {},
   "outputs": [],
   "source": [
    "ed.get('https://club.snapp.ir/drivers-league/')"
   ]
  },
  {
   "cell_type": "code",
   "execution_count": 62,
   "id": "6570a63e",
   "metadata": {},
   "outputs": [],
   "source": [
    "soup = BeautifulSoup(ed.page_source)"
   ]
  },
  {
   "cell_type": "code",
   "execution_count": 72,
   "id": "9fdbe2b7",
   "metadata": {},
   "outputs": [],
   "source": [
    "texts = soup.select('div div.container.loyal-body')[0].text"
   ]
  },
  {
   "cell_type": "code",
   "execution_count": 74,
   "id": "70721f82",
   "metadata": {},
   "outputs": [],
   "source": [
    "docs['راهنمای اپلیکیشن رانندگان']['لیگ رانندگان اسنپ'] = texts.strip().replace('‌', ' ')"
   ]
  },
  {
   "cell_type": "code",
   "execution_count": 75,
   "id": "df98e967",
   "metadata": {},
   "outputs": [],
   "source": [
    "ed.get('https://club.snapp.ir/snappgram/driver-rating-to-passenger/')"
   ]
  },
  {
   "cell_type": "code",
   "execution_count": 76,
   "id": "6fcd5a3b",
   "metadata": {},
   "outputs": [],
   "source": [
    "soup = BeautifulSoup(ed.page_source)"
   ]
  },
  {
   "cell_type": "code",
   "execution_count": 85,
   "id": "624f65fa",
   "metadata": {},
   "outputs": [],
   "source": [
    "docs['راهنمای اپلیکیشن رانندگان']['راهنمای امتیازدادن به مسافر'] = soup.select_one('#main-content-row > div > div:nth-child(2) > div.flex.flex-col.lg\\:flex-row-reverse.lg\\:justify-around.my-8 > div.px-5.my-4.flex-1.lg\\:mt-12').text.strip().replace('‌', ' ')"
   ]
  },
  {
   "cell_type": "code",
   "execution_count": 86,
   "id": "5218963e",
   "metadata": {},
   "outputs": [],
   "source": [
    "ed.get('https://club.snapp.ir/snappgram/live-performance-report/')"
   ]
  },
  {
   "cell_type": "code",
   "execution_count": 87,
   "id": "7357fadf",
   "metadata": {},
   "outputs": [],
   "source": [
    "soup = BeautifulSoup(ed.page_source)"
   ]
  },
  {
   "cell_type": "code",
   "execution_count": 92,
   "id": "ab4e3e8e",
   "metadata": {},
   "outputs": [],
   "source": [
    "docs['راهنمای اپلیکیشن رانندگان']['گزارش عملکرد لحظه ای کاربر راننده'] = soup.select_one('#main-content-row > div > div:nth-child(2) > div.flex.flex-col.lg\\:flex-row-reverse.lg\\:justify-around.my-8 > div.px-5.my-4.flex-1.lg\\:mt-12').text.strip().replace('‌', ' ')"
   ]
  },
  {
   "cell_type": "code",
   "execution_count": 93,
   "id": "8431ae5c",
   "metadata": {},
   "outputs": [],
   "source": [
    "ed.get('https://club.snapp.ir/snappgram/driver-badge/')"
   ]
  },
  {
   "cell_type": "code",
   "execution_count": 94,
   "id": "67236b12",
   "metadata": {},
   "outputs": [],
   "source": [
    "docs['راهنمای اپلیکیشن رانندگان']['مدال افتخار'] = soup.select_one('#main-content-row > div > div:nth-child(2) > div.flex.flex-col.lg\\:flex-row-reverse.lg\\:justify-around.my-8 > div.px-5.my-4.flex-1.lg\\:mt-12').text.strip().replace('‌', ' ')"
   ]
  },
  {
   "cell_type": "code",
   "execution_count": 99,
   "id": "e85f39f0",
   "metadata": {},
   "outputs": [],
   "source": [
    "docs['راهنمای لیگ رانندگان']['لیگ رانندگان اسنپ'] = docs['راهنمای اپلیکیشن رانندگان']['لیگ رانندگان اسنپ']"
   ]
  },
  {
   "cell_type": "code",
   "execution_count": null,
   "id": "5111045f",
   "metadata": {},
   "outputs": [],
   "source": []
  },
  {
   "cell_type": "code",
   "execution_count": null,
   "id": "e51b6868",
   "metadata": {},
   "outputs": [],
   "source": []
  },
  {
   "cell_type": "code",
   "execution_count": 101,
   "id": "e9da927b",
   "metadata": {},
   "outputs": [],
   "source": [
    "with open('./docs.json', 'w+') as fo:\n",
    "    json.dump(docs, fo, indent=True)"
   ]
  },
  {
   "cell_type": "code",
   "execution_count": 102,
   "id": "7b4f8beb",
   "metadata": {},
   "outputs": [],
   "source": [
    "new_docs = {}\n",
    "for title, j in docs.items():\n",
    "    t = title.replace('ی', 'ي').replace('\\u200c', ' ')\n",
    "    new_docs[t] = {}\n",
    "    for sub_title, text in j.items():\n",
    "        new_docs[t][sub_title.replace('ی', 'ي')] = text.replace('ی', 'ي')"
   ]
  },
  {
   "cell_type": "code",
   "execution_count": 103,
   "id": "70afa340",
   "metadata": {},
   "outputs": [],
   "source": [
    "with open('./docs.json', 'w+') as fo:\n",
    "    json.dump(new_docs, fo, indent=True)"
   ]
  },
  {
   "cell_type": "code",
   "execution_count": null,
   "id": "582d5838",
   "metadata": {},
   "outputs": [],
   "source": []
  }
 ],
 "metadata": {
  "kernelspec": {
   "display_name": "Python 3 (ipykernel)",
   "language": "python",
   "name": "python3"
  },
  "language_info": {
   "codemirror_mode": {
    "name": "ipython",
    "version": 3
   },
   "file_extension": ".py",
   "mimetype": "text/x-python",
   "name": "python",
   "nbconvert_exporter": "python",
   "pygments_lexer": "ipython3",
   "version": "3.8.18"
  }
 },
 "nbformat": 4,
 "nbformat_minor": 5
}
